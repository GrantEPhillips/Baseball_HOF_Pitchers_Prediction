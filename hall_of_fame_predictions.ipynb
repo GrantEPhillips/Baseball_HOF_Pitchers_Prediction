{
 "cells": [
  {
   "cell_type": "markdown",
   "metadata": {},
   "source": [
    "# Baseball hall of fame pitchers \n",
    "------"
   ]
  },
  {
   "cell_type": "markdown",
   "metadata": {},
   "source": [
    "## Grant Phillips"
   ]
  },
  {
   "cell_type": "markdown",
   "metadata": {},
   "source": [
    "Question\n",
    "----\n",
    "\n",
    "\n"
   ]
  },
  {
   "cell_type": "markdown",
   "metadata": {},
   "source": [
    "Given a dataset of historical hall of fame ballot results and various pitching statistics, can I predict whether a pitcher on the hall of fame ballot will be inducted?"
   ]
  },
  {
   "cell_type": "markdown",
   "metadata": {},
   "source": [
    "# Imports"
   ]
  },
  {
   "cell_type": "code",
   "execution_count": 76,
   "metadata": {},
   "outputs": [
    {
     "name": "stdout",
     "output_type": "stream",
     "text": [
      "Collecting imblearn\n",
      "  Using cached imblearn-0.0-py2.py3-none-any.whl (1.9 kB)\n",
      "Requirement already satisfied: imbalanced-learn in /opt/anaconda3/lib/python3.8/site-packages (from imblearn) (0.8.0)\n",
      "Requirement already satisfied: numpy>=1.13.3 in /opt/anaconda3/lib/python3.8/site-packages (from imbalanced-learn->imblearn) (1.19.2)\n",
      "Requirement already satisfied: scikit-learn>=0.24 in /opt/anaconda3/lib/python3.8/site-packages (from imbalanced-learn->imblearn) (0.24.1)\n",
      "Requirement already satisfied: scipy>=0.19.1 in /opt/anaconda3/lib/python3.8/site-packages (from imbalanced-learn->imblearn) (1.5.2)\n",
      "Requirement already satisfied: joblib>=0.11 in /opt/anaconda3/lib/python3.8/site-packages (from imbalanced-learn->imblearn) (1.0.0)\n",
      "Requirement already satisfied: threadpoolctl>=2.0.0 in /opt/anaconda3/lib/python3.8/site-packages (from scikit-learn>=0.24->imbalanced-learn->imblearn) (2.1.0)\n",
      "Installing collected packages: imblearn\n",
      "Successfully installed imblearn-0.0\n"
     ]
    }
   ],
   "source": [
    "!pip install imblearn"
   ]
  },
  {
   "cell_type": "code",
   "execution_count": 43,
   "metadata": {},
   "outputs": [],
   "source": [
    "import pandas                  as pd\n",
    "import numpy                   as np\n",
    "from   pathlib                 import Path\n",
    "from   collections             import Counter\n",
    "import matplotlib.pyplot       as plt\n",
    "\n",
    "from   sklearn.ensemble        import RandomForestClassifier, ExtraTreesClassifier, GradientBoostingClassifier\n",
    "from   sklearn.linear_model    import LogisticRegression, RidgeClassifier, Lasso\n",
    "from   sklearn.metrics         import f1_score, balanced_accuracy_score, confusion_matrix, mean_squared_error,\\\n",
    "                                      average_precision_score, precision_recall_curve, plot_precision_recall_curve\n",
    "from   sklearn.model_selection import RandomizedSearchCV, train_test_split, cross_val_score\n",
    "from   sklearn.preprocessing   import *\n",
    "from   sklearn.base            import BaseEstimator\n",
    "from   sklearn.compose         import ColumnTransformer\n",
    "from   sklearn.impute          import SimpleImputer\n",
    "from   imblearn.over_sampling  import SMOTE \n",
    "from   sklearn.inspection      import permutation_importance\n",
    "from   imblearn.pipeline       import Pipeline\n",
    "from   sklearn.neighbors       import KNeighborsRegressor\n",
    "\n",
    "import warnings\n",
    "warnings.filterwarnings(\"ignore\", category=UserWarning)"
   ]
  },
  {
   "cell_type": "markdown",
   "metadata": {},
   "source": [
    "#### Path where all data exists"
   ]
  },
  {
   "cell_type": "code",
   "execution_count": 2,
   "metadata": {},
   "outputs": [],
   "source": [
    "PATH = Path(\"../data/baseballdatabank-master/core/\")"
   ]
  },
  {
   "cell_type": "markdown",
   "metadata": {},
   "source": [
    "#### Load in two csv's with data of interest"
   ]
  },
  {
   "cell_type": "code",
   "execution_count": 3,
   "metadata": {},
   "outputs": [],
   "source": [
    "hof_df = pd.read_csv(PATH/\"HallOfFame.csv\")\n",
    "pitching_df = pd.read_csv(PATH/\"Pitching.csv\")"
   ]
  },
  {
   "cell_type": "markdown",
   "metadata": {},
   "source": [
    "# Prepare data for Scikit learn pipeline and deal with transformations that require target transformation"
   ]
  },
  {
   "cell_type": "markdown",
   "metadata": {},
   "source": [
    "#### One hot encode target (induction result) so the feature is not lost when we aggregate"
   ]
  },
  {
   "cell_type": "code",
   "execution_count": 4,
   "metadata": {},
   "outputs": [],
   "source": [
    "hof_df['inducted'] = OneHotEncoder().fit_transform(np.array(hof_df['inducted']).reshape(-1,1)).toarray()[:,1]"
   ]
  },
  {
   "cell_type": "markdown",
   "metadata": {},
   "source": [
    "#### Merge dataframes to one dataset"
   ]
  },
  {
   "cell_type": "code",
   "execution_count": 5,
   "metadata": {},
   "outputs": [],
   "source": [
    "data = pitching_df.merge(hof_df, how='inner', on='playerID').drop_duplicates(subset=list(pitching_df.columns)[2:], keep='last')"
   ]
  },
  {
   "cell_type": "markdown",
   "metadata": {},
   "source": [
    "#### Only include players (exclude managers, executives, etc)"
   ]
  },
  {
   "cell_type": "code",
   "execution_count": 6,
   "metadata": {},
   "outputs": [],
   "source": [
    "data_players = data[data['category'] == 'Player']"
   ]
  },
  {
   "cell_type": "markdown",
   "metadata": {},
   "source": [
    "#### Get career statistics for each player"
   ]
  },
  {
   "cell_type": "code",
   "execution_count": 7,
   "metadata": {},
   "outputs": [],
   "source": [
    "data_agg = data_players.groupby('playerID').sum()"
   ]
  },
  {
   "cell_type": "markdown",
   "metadata": {},
   "source": [
    "#### Filter out players with little pitching experience"
   ]
  },
  {
   "cell_type": "code",
   "execution_count": 8,
   "metadata": {},
   "outputs": [],
   "source": [
    "data_pitchers = data_agg[data_agg['BFP'] > 1000]"
   ]
  },
  {
   "cell_type": "markdown",
   "metadata": {},
   "source": [
    "#### Fix target column again"
   ]
  },
  {
   "cell_type": "code",
   "execution_count": 9,
   "metadata": {},
   "outputs": [
    {
     "name": "stderr",
     "output_type": "stream",
     "text": [
      "<ipython-input-9-cb8b8e68258e>:1: SettingWithCopyWarning: \n",
      "A value is trying to be set on a copy of a slice from a DataFrame.\n",
      "Try using .loc[row_indexer,col_indexer] = value instead\n",
      "\n",
      "See the caveats in the documentation: https://pandas.pydata.org/pandas-docs/stable/user_guide/indexing.html#returning-a-view-versus-a-copy\n",
      "  data_pitchers['inducted'] = (np.array(data_pitchers['inducted']) > 0).astype(int)\n"
     ]
    }
   ],
   "source": [
    "data_pitchers['inducted'] = (np.array(data_pitchers['inducted']) > 0).astype(int)"
   ]
  },
  {
   "cell_type": "code",
   "execution_count": 69,
   "metadata": {},
   "outputs": [
    {
     "data": {
      "text/html": [
       "<div>\n",
       "<style scoped>\n",
       "    .dataframe tbody tr th:only-of-type {\n",
       "        vertical-align: middle;\n",
       "    }\n",
       "\n",
       "    .dataframe tbody tr th {\n",
       "        vertical-align: top;\n",
       "    }\n",
       "\n",
       "    .dataframe thead th {\n",
       "        text-align: right;\n",
       "    }\n",
       "</style>\n",
       "<table border=\"1\" class=\"dataframe\">\n",
       "  <thead>\n",
       "    <tr style=\"text-align: right;\">\n",
       "      <th>playerID</th>\n",
       "      <th>abbotji01</th>\n",
       "      <th>adamsba01</th>\n",
       "    </tr>\n",
       "  </thead>\n",
       "  <tbody>\n",
       "    <tr>\n",
       "      <th>yearID_x</th>\n",
       "      <td>21932.000</td>\n",
       "      <td>36411.00</td>\n",
       "    </tr>\n",
       "    <tr>\n",
       "      <th>stint</th>\n",
       "      <td>12.000</td>\n",
       "      <td>19.00</td>\n",
       "    </tr>\n",
       "    <tr>\n",
       "      <th>W</th>\n",
       "      <td>87.000</td>\n",
       "      <td>194.00</td>\n",
       "    </tr>\n",
       "    <tr>\n",
       "      <th>L</th>\n",
       "      <td>108.000</td>\n",
       "      <td>140.00</td>\n",
       "    </tr>\n",
       "    <tr>\n",
       "      <th>G</th>\n",
       "      <td>263.000</td>\n",
       "      <td>482.00</td>\n",
       "    </tr>\n",
       "    <tr>\n",
       "      <th>GS</th>\n",
       "      <td>254.000</td>\n",
       "      <td>355.00</td>\n",
       "    </tr>\n",
       "    <tr>\n",
       "      <th>CG</th>\n",
       "      <td>31.000</td>\n",
       "      <td>206.00</td>\n",
       "    </tr>\n",
       "    <tr>\n",
       "      <th>SHO</th>\n",
       "      <td>6.000</td>\n",
       "      <td>44.00</td>\n",
       "    </tr>\n",
       "    <tr>\n",
       "      <th>SV</th>\n",
       "      <td>0.000</td>\n",
       "      <td>15.00</td>\n",
       "    </tr>\n",
       "    <tr>\n",
       "      <th>IPouts</th>\n",
       "      <td>5022.000</td>\n",
       "      <td>8986.00</td>\n",
       "    </tr>\n",
       "    <tr>\n",
       "      <th>H</th>\n",
       "      <td>1779.000</td>\n",
       "      <td>2841.00</td>\n",
       "    </tr>\n",
       "    <tr>\n",
       "      <th>ER</th>\n",
       "      <td>791.000</td>\n",
       "      <td>917.00</td>\n",
       "    </tr>\n",
       "    <tr>\n",
       "      <th>HR</th>\n",
       "      <td>154.000</td>\n",
       "      <td>68.00</td>\n",
       "    </tr>\n",
       "    <tr>\n",
       "      <th>BB</th>\n",
       "      <td>620.000</td>\n",
       "      <td>430.00</td>\n",
       "    </tr>\n",
       "    <tr>\n",
       "      <th>SO</th>\n",
       "      <td>888.000</td>\n",
       "      <td>1036.00</td>\n",
       "    </tr>\n",
       "    <tr>\n",
       "      <th>BAOpp</th>\n",
       "      <td>3.084</td>\n",
       "      <td>3.85</td>\n",
       "    </tr>\n",
       "    <tr>\n",
       "      <th>ERA</th>\n",
       "      <td>49.460</td>\n",
       "      <td>70.94</td>\n",
       "    </tr>\n",
       "    <tr>\n",
       "      <th>IBB</th>\n",
       "      <td>30.000</td>\n",
       "      <td>0.00</td>\n",
       "    </tr>\n",
       "    <tr>\n",
       "      <th>WP</th>\n",
       "      <td>53.000</td>\n",
       "      <td>26.00</td>\n",
       "    </tr>\n",
       "    <tr>\n",
       "      <th>HBP</th>\n",
       "      <td>32.000</td>\n",
       "      <td>47.00</td>\n",
       "    </tr>\n",
       "    <tr>\n",
       "      <th>BK</th>\n",
       "      <td>11.000</td>\n",
       "      <td>2.00</td>\n",
       "    </tr>\n",
       "    <tr>\n",
       "      <th>BFP</th>\n",
       "      <td>7211.000</td>\n",
       "      <td>11947.00</td>\n",
       "    </tr>\n",
       "    <tr>\n",
       "      <th>GF</th>\n",
       "      <td>5.000</td>\n",
       "      <td>89.00</td>\n",
       "    </tr>\n",
       "    <tr>\n",
       "      <th>R</th>\n",
       "      <td>880.000</td>\n",
       "      <td>1129.00</td>\n",
       "    </tr>\n",
       "    <tr>\n",
       "      <th>SH</th>\n",
       "      <td>70.000</td>\n",
       "      <td>0.00</td>\n",
       "    </tr>\n",
       "    <tr>\n",
       "      <th>SF</th>\n",
       "      <td>47.000</td>\n",
       "      <td>0.00</td>\n",
       "    </tr>\n",
       "    <tr>\n",
       "      <th>GIDP</th>\n",
       "      <td>200.000</td>\n",
       "      <td>0.00</td>\n",
       "    </tr>\n",
       "    <tr>\n",
       "      <th>yearID_y</th>\n",
       "      <td>22055.000</td>\n",
       "      <td>37145.00</td>\n",
       "    </tr>\n",
       "    <tr>\n",
       "      <th>ballots</th>\n",
       "      <td>5676.000</td>\n",
       "      <td>4769.00</td>\n",
       "    </tr>\n",
       "    <tr>\n",
       "      <th>needed</th>\n",
       "      <td>4257.000</td>\n",
       "      <td>3591.00</td>\n",
       "    </tr>\n",
       "    <tr>\n",
       "      <th>votes</th>\n",
       "      <td>143.000</td>\n",
       "      <td>456.00</td>\n",
       "    </tr>\n",
       "    <tr>\n",
       "      <th>inducted</th>\n",
       "      <td>0.000</td>\n",
       "      <td>0.00</td>\n",
       "    </tr>\n",
       "  </tbody>\n",
       "</table>\n",
       "</div>"
      ],
      "text/plain": [
       "playerID  abbotji01  adamsba01\n",
       "yearID_x  21932.000   36411.00\n",
       "stint        12.000      19.00\n",
       "W            87.000     194.00\n",
       "L           108.000     140.00\n",
       "G           263.000     482.00\n",
       "GS          254.000     355.00\n",
       "CG           31.000     206.00\n",
       "SHO           6.000      44.00\n",
       "SV            0.000      15.00\n",
       "IPouts     5022.000    8986.00\n",
       "H          1779.000    2841.00\n",
       "ER          791.000     917.00\n",
       "HR          154.000      68.00\n",
       "BB          620.000     430.00\n",
       "SO          888.000    1036.00\n",
       "BAOpp         3.084       3.85\n",
       "ERA          49.460      70.94\n",
       "IBB          30.000       0.00\n",
       "WP           53.000      26.00\n",
       "HBP          32.000      47.00\n",
       "BK           11.000       2.00\n",
       "BFP        7211.000   11947.00\n",
       "GF            5.000      89.00\n",
       "R           880.000    1129.00\n",
       "SH           70.000       0.00\n",
       "SF           47.000       0.00\n",
       "GIDP        200.000       0.00\n",
       "yearID_y  22055.000   37145.00\n",
       "ballots    5676.000    4769.00\n",
       "needed     4257.000    3591.00\n",
       "votes       143.000     456.00\n",
       "inducted      0.000       0.00"
      ]
     },
     "execution_count": 69,
     "metadata": {},
     "output_type": "execute_result"
    }
   ],
   "source": [
    "data_pitchers.head(2).T"
   ]
  },
  {
   "cell_type": "markdown",
   "metadata": {},
   "source": [
    "# Seperate Features and Targets"
   ]
  },
  {
   "cell_type": "code",
   "execution_count": 11,
   "metadata": {},
   "outputs": [],
   "source": [
    "y = data_pitchers['inducted']\n",
    "X = data_pitchers.drop(['inducted'],axis=1)"
   ]
  },
  {
   "cell_type": "markdown",
   "metadata": {},
   "source": [
    "# Let's set aside a test set to evalute our models at the end"
   ]
  },
  {
   "cell_type": "code",
   "execution_count": 12,
   "metadata": {},
   "outputs": [],
   "source": [
    "X_train, X_test, y_train, y_test = train_test_split(X, y, train_size=0.8) "
   ]
  },
  {
   "cell_type": "markdown",
   "metadata": {},
   "source": [
    "# Feature Engineering"
   ]
  },
  {
   "cell_type": "markdown",
   "metadata": {},
   "source": [
    "### Define custom transformer to drop features"
   ]
  },
  {
   "cell_type": "markdown",
   "metadata": {},
   "source": [
    "### Drop features related to ballot voting results in order to prevent data leakage. Includes 'votes', 'needed', and 'ballots'.\n",
    "### Drop features that are not helpful due to aggregation, such as ERA and BAOpp (Averages)\n",
    "### Drop stats that are not a real indicator of success and are rare such as Balks and Wild Pitches"
   ]
  },
  {
   "cell_type": "code",
   "execution_count": 13,
   "metadata": {},
   "outputs": [],
   "source": [
    "class CustomTransformer():\n",
    "    def __init__(self, func):\n",
    "        self.func = func\n",
    "\n",
    "    def transform(self, input_df, **transform_params):\n",
    "        return self.func(input_df)\n",
    "\n",
    "    def fit(self, X, y=None, **fit_params):\n",
    "        return self\n",
    "\n",
    "def drop_features(df):\n",
    "    df = df.drop(['votes', 'needed', 'ballots', 'yearID_y', 'ERA', 'BAOpp', 'yearID_x', 'BK', 'WP'], axis=1)\n",
    "\n",
    "    return df\n"
   ]
  },
  {
   "cell_type": "markdown",
   "metadata": {},
   "source": [
    "## Final Features"
   ]
  },
  {
   "cell_type": "markdown",
   "metadata": {},
   "source": [
    "- Wins\n",
    "- Loss\n",
    "- Games\n",
    "- Games started\n",
    "- Complete Games\n",
    "- Shutouts\n",
    "- Saves\n",
    "- Outs Pitched\n",
    "- Hits\n",
    "- Earned Runs\n",
    "- Home runs\n",
    "- Walks\n",
    "- Strikeouts\n",
    "- Intentional Walks\n",
    "- Hit Batters\n",
    "- Batters faced by pitcher\n",
    "- Games finished\n",
    "- Runs allowed\n",
    "- Sacrifices by opposing batters\n",
    "- Sacrifice flies by opposing batters\n",
    "- Grounded into double plays by opposing batter\n",
    "- Seasons"
   ]
  },
  {
   "cell_type": "markdown",
   "metadata": {},
   "source": [
    "# Missing Data"
   ]
  },
  {
   "cell_type": "markdown",
   "metadata": {},
   "source": [
    "### IBB (Intentional Walks) , GIDP (Grounded Into Double Play), SF (Sacrifice Flys), HBP (Hit By Pitch), and SH (Sacrifice Bunts) were not recorded in the early days of baseball\n",
    "\n",
    "### Replace missing values with median value using ColumnTransformer and SimpleImputer"
   ]
  },
  {
   "cell_type": "code",
   "execution_count": 14,
   "metadata": {},
   "outputs": [],
   "source": [
    "column_tranf = ColumnTransformer([\n",
    "                                ('imp_cols', SimpleImputer(missing_values=0, strategy='median'), [21, 20, 19, 15, 14])\n",
    "                                ], remainder='passthrough')"
   ]
  },
  {
   "cell_type": "markdown",
   "metadata": {},
   "source": [
    "# Imbalanced Data"
   ]
  },
  {
   "cell_type": "code",
   "execution_count": 47,
   "metadata": {},
   "outputs": [
    {
     "name": "stdout",
     "output_type": "stream",
     "text": [
      "Percent hall of famers in data = 17.56%\n",
      "Percent not hall of famers in data = 82.44%\n"
     ]
    }
   ],
   "source": [
    "print(f'Percent hall of famers in data = {Counter(y)[1]/len(X) * 100:.2f}%')\n",
    "print(f'Percent not hall of famers in data = {Counter(y)[0]/len(X) * 100:.2f}%')"
   ]
  },
  {
   "cell_type": "markdown",
   "metadata": {},
   "source": [
    "#### Data is imbalanced due to the Baseball hall of fame being an exclusive club\n",
    "#### Solution: Use smote to synthetically generate samples from minority class"
   ]
  },
  {
   "cell_type": "markdown",
   "metadata": {},
   "source": [
    "# Choosing Model Candidates"
   ]
  },
  {
   "cell_type": "markdown",
   "metadata": {},
   "source": [
    "### Evaluation Metrics:\n",
    "1. Balanced accuracy:\n",
    "    - Gives the average proportion correct from each class, which is useful for imbalanced data\n",
    "2. F1:\n",
    "    - Combines Recall (Fraction of True Postives to Actual Positives) and Precision (Fraction of True Positves to Predicted Positives) which are two important metrics for imbalanced data\n",
    "3. Average Precision:\n",
    "    - Summarizes the precision-recall curve, which is a better measure than ROC curve\n",
    "    - Another good measure for imbalanced data and binary classifiers\n",
    "    - For reference: https://sanchom.wordpress.com/tag/average-precision/"
   ]
  },
  {
   "cell_type": "markdown",
   "metadata": {},
   "source": [
    "## Setup cv search across algorithms and hyperparameters to get best values"
   ]
  },
  {
   "cell_type": "code",
   "execution_count": 16,
   "metadata": {},
   "outputs": [],
   "source": [
    "# Helper class (provided by Brian in one of our class assignments)\n",
    "class DummyEstimator(BaseEstimator):\n",
    "    \"Pass through class, methods are present but do nothing.\"\n",
    "    def fit(self): pass\n",
    "    def score(self): pass"
   ]
  },
  {
   "cell_type": "code",
   "execution_count": 17,
   "metadata": {},
   "outputs": [],
   "source": [
    "# Setup pipeline to cv search across algorthims\n",
    "pipe = Pipeline([('transformer', CustomTransformer(drop_features)),\n",
    "                ('col_transformer', column_tranf),\n",
    "                ('sm', SMOTE()),\n",
    "                ('scaler', MinMaxScaler()),\n",
    "                ('clf', DummyEstimator())\n",
    "                ])"
   ]
  },
  {
   "cell_type": "markdown",
   "metadata": {},
   "source": [
    "# Let's first select a linear model"
   ]
  },
  {
   "cell_type": "markdown",
   "metadata": {},
   "source": [
    "## Use Randomized search to search across several different models and hyperparameters\n",
    "\n",
    "1. LogisticRegression\n",
    "    - penalty: pick what type of regularization we want to use\n",
    "    \n",
    "    \n",
    "2. RidgeClassifier\n",
    "    - alpha: represents strength of regularization\n",
    " \n",
    " \n",
    "3. Lasso\n",
    "    - alpha:  represents strenght of L1 regularization\n",
    "    - Also includes feature selection"
   ]
  },
  {
   "cell_type": "code",
   "execution_count": 18,
   "metadata": {},
   "outputs": [
    {
     "name": "stdout",
     "output_type": "stream",
     "text": [
      "Fitting 5 folds for each of 11 candidates, totalling 55 fits\n"
     ]
    },
    {
     "data": {
      "text/plain": [
       "RidgeClassifier(alpha=0.01)"
      ]
     },
     "execution_count": 18,
     "metadata": {},
     "output_type": "execute_result"
    }
   ],
   "source": [
    "search_space = [\n",
    "                \n",
    "                {'clf': [LogisticRegression()],\n",
    "                 'clf__penalty': ['l1', 'l2', 'elasticnet']},\n",
    "               \n",
    "                {'clf': [RidgeClassifier()],\n",
    "                 'clf__alpha': [0.001, 0.01, 0.1, 1]},\n",
    "\n",
    "                {'clf': [Lasso()],\n",
    "                 'clf__alpha': [0.1, 0.5, 0.75, 1]},\n",
    "    \n",
    "               ]\n",
    "\n",
    "clf_algos_rand = RandomizedSearchCV(estimator=pipe, \n",
    "                                    param_distributions=search_space, \n",
    "                                    n_iter=21,\n",
    "                                    cv=5, \n",
    "                                    n_jobs=-1,\n",
    "                                    scoring='balanced_accuracy',\n",
    "                                    verbose=1)\n",
    "\n",
    "# Grid search\n",
    "linear_model = clf_algos_rand.fit(X_train, y_train);\n",
    "\n",
    "# View best model\n",
    "linear_estimator = linear_model.best_estimator_.get_params()['clf']\n",
    "linear_estimator"
   ]
  },
  {
   "cell_type": "code",
   "execution_count": 19,
   "metadata": {},
   "outputs": [
    {
     "data": {
      "text/plain": [
       "Pipeline(steps=[('transformer',\n",
       "                 <__main__.CustomTransformer object at 0x7f972db1c5b0>),\n",
       "                ('col_transformer',\n",
       "                 ColumnTransformer(remainder='passthrough',\n",
       "                                   transformers=[('imp_cols',\n",
       "                                                  SimpleImputer(missing_values=0,\n",
       "                                                                strategy='median'),\n",
       "                                                  [21, 20, 19, 15, 14])])),\n",
       "                ('sm', SMOTE()), ('scaler', MinMaxScaler()),\n",
       "                ('linear', RidgeClassifier(alpha=0.01))])"
      ]
     },
     "execution_count": 19,
     "metadata": {},
     "output_type": "execute_result"
    }
   ],
   "source": [
    "linear_pipe = Pipeline([('transformer', CustomTransformer(drop_features)),\n",
    "                ('col_transformer', column_tranf),\n",
    "                ('sm', SMOTE()),\n",
    "                ('scaler', MinMaxScaler()),\n",
    "                ('linear', linear_estimator)\n",
    "                ])\n",
    "linear_pipe.fit(X_train, y_train)"
   ]
  },
  {
   "cell_type": "markdown",
   "metadata": {},
   "source": [
    "# Next Ensemble models"
   ]
  },
  {
   "cell_type": "markdown",
   "metadata": {},
   "source": [
    "##  Use Randomized search to search across hyperparamers\n",
    "\n",
    "1. RandomForestClassifier\n",
    "2. ExtraTreesClassifier\n",
    "    - Criterion: \n",
    "        - Gini: measures how pure the class split is\n",
    "        - Entropy: measures information gain\n",
    "    - Max Depth:\n",
    "        - Puts a limit on the depth of the tree\n",
    "        - Stops trees from overfitting\n",
    "    - Min Samples Leaf:\n",
    "        - Limits leaves with few samples\n",
    "        "
   ]
  },
  {
   "cell_type": "code",
   "execution_count": 20,
   "metadata": {},
   "outputs": [
    {
     "name": "stdout",
     "output_type": "stream",
     "text": [
      "Fitting 5 folds for each of 432 candidates, totalling 2160 fits\n"
     ]
    },
    {
     "data": {
      "text/plain": [
       "RandomForestClassifier(criterion='entropy', max_depth=5, min_samples_leaf=5)"
      ]
     },
     "execution_count": 20,
     "metadata": {},
     "output_type": "execute_result"
    }
   ],
   "source": [
    "# Setup pipeline to cv search across algorthims\n",
    "pipe = Pipeline([('transformer', CustomTransformer(drop_features)),\n",
    "                ('col_transformer', column_tranf),\n",
    "                ('sm', SMOTE()),\n",
    "                ('scaler', MinMaxScaler()),\n",
    "                ('clf', DummyEstimator())\n",
    "                ])\n",
    "\n",
    "# Create search space of candidate algorthims and their hyperparameters\n",
    "# Search for optimal criterion, max_depth, min_samples\n",
    "search_space = [\n",
    "                \n",
    "                {'clf': [RandomForestClassifier()],\n",
    "                 'clf__criterion': ['gini', 'entropy'],\n",
    "                 'clf__max_depth': [None, 5, 10, 15, 20, 25],\n",
    "                 'clf__min_samples_leaf': [1, 3, 5, 10, 25, 100],\n",
    "                 'clf__max_features': ['auto', 'sqrt', 'log2']},\n",
    "    \n",
    "                {'clf': [ExtraTreesClassifier()],\n",
    "                 'clf__criterion': ['gini', 'entropy'],\n",
    "                 'clf__max_depth': [None, 5, 10, 15, 20, 25],\n",
    "                 'clf__min_samples_leaf': [1, 3, 5, 10, 25, 100],\n",
    "                 'clf__max_features': ['auto', 'sqrt', 'log2']}\n",
    "\n",
    "                \n",
    "               ]\n",
    "clf_algos_rand = RandomizedSearchCV(estimator=pipe, \n",
    "                                    param_distributions=search_space, \n",
    "                                    n_iter=500,\n",
    "                                    cv=5, \n",
    "                                    n_jobs=-1,\n",
    "                                    scoring='balanced_accuracy',\n",
    "                                    verbose=1)\n",
    "\n",
    "# Grid search\n",
    "ensemble_model = clf_algos_rand.fit(X_train, y_train);\n",
    "\n",
    "ensemble_estimator = ensemble_model.best_estimator_.get_params()['clf']\n",
    "ensemble_estimator"
   ]
  },
  {
   "cell_type": "code",
   "execution_count": 21,
   "metadata": {},
   "outputs": [
    {
     "data": {
      "text/plain": [
       "Pipeline(steps=[('transformer',\n",
       "                 <__main__.CustomTransformer object at 0x7f971264acd0>),\n",
       "                ('col_transformer',\n",
       "                 ColumnTransformer(remainder='passthrough',\n",
       "                                   transformers=[('imp_cols',\n",
       "                                                  SimpleImputer(missing_values=0,\n",
       "                                                                strategy='median'),\n",
       "                                                  [21, 20, 19, 15, 14])])),\n",
       "                ('sm', SMOTE()), ('scaler', MinMaxScaler()),\n",
       "                ('linear',\n",
       "                 RandomForestClassifier(criterion='entropy', max_depth=5,\n",
       "                                        min_samples_leaf=5))])"
      ]
     },
     "execution_count": 21,
     "metadata": {},
     "output_type": "execute_result"
    }
   ],
   "source": [
    "ensemble_pipe = Pipeline([('transformer', CustomTransformer(drop_features)),\n",
    "                ('col_transformer', column_tranf),\n",
    "                ('sm', SMOTE()),\n",
    "                ('scaler', MinMaxScaler()),\n",
    "                ('linear', ensemble_estimator)\n",
    "                ])\n",
    "ensemble_pipe.fit(X_train, y_train)"
   ]
  },
  {
   "cell_type": "markdown",
   "metadata": {},
   "source": [
    "# Use candidate models and compare cross validation scores"
   ]
  },
  {
   "cell_type": "code",
   "execution_count": 22,
   "metadata": {},
   "outputs": [
    {
     "name": "stdout",
     "output_type": "stream",
     "text": [
      "Balanced accuracy score for best linear model is 0.86\n",
      "Balanced accuracy score for best ensemble model is 0.82\n"
     ]
    }
   ],
   "source": [
    "linear_acc_cv_scores = cross_val_score(linear_pipe, X_train, y_train, scoring='balanced_accuracy', cv=5, verbose=False)\n",
    "ensemble_acc_cv_scores = cross_val_score(ensemble_pipe, X_train, y_train, scoring='balanced_accuracy', cv=5, verbose=False)\n",
    "print(f\"Balanced accuracy score for best linear model is {linear_acc_cv_scores.mean():.2f}\")\n",
    "print(f\"Balanced accuracy score for best ensemble model is {ensemble_acc_cv_scores.mean():.2f}\")"
   ]
  },
  {
   "cell_type": "code",
   "execution_count": 67,
   "metadata": {},
   "outputs": [
    {
     "name": "stdout",
     "output_type": "stream",
     "text": [
      "Average weighted f1 score for best linear model is 0.75\n",
      "Average weighted f1 score for best ensemble model is 0.66\n"
     ]
    }
   ],
   "source": [
    "linear_f1_cv_scores = cross_val_score(linear_pipe, X_train, y_train, scoring='f1', cv=5, verbose=False)\n",
    "ensemble_f1_cv_scores = cross_val_score(ensemble_pipe, X_train, y_train, scoring='f1', cv=5, verbose=False)\n",
    "print(f\"Average weighted f1 score for best linear model is {linear_f1_cv_scores.mean():.2f}\")\n",
    "print(f\"Average weighted f1 score for best ensemble model is {ensemble_f1_cv_scores.mean():.2f}\")"
   ]
  },
  {
   "cell_type": "code",
   "execution_count": 24,
   "metadata": {},
   "outputs": [
    {
     "name": "stdout",
     "output_type": "stream",
     "text": [
      "Average precision score for best linear model is 0.80\n",
      "Average precision score for best ensemble model is 0.75\n"
     ]
    }
   ],
   "source": [
    "linear_ap_cv_scores = cross_val_score(linear_pipe, X_train, y_train, scoring='average_precision', cv=5, verbose=False)\n",
    "ensemble_ap_cv_scores = cross_val_score(ensemble_pipe, X_train, y_train, scoring='average_precision', cv=5, verbose=False)\n",
    "print(f\"Average precision score for best linear model is {linear_ap_cv_scores.mean():.2f}\")\n",
    "print(f\"Average precision score for best ensemble model is {ensemble_ap_cv_scores.mean():.2f}\")"
   ]
  },
  {
   "cell_type": "markdown",
   "metadata": {},
   "source": [
    "# Model Selection"
   ]
  },
  {
   "cell_type": "markdown",
   "metadata": {},
   "source": [
    "#### The best linear model usually scores a little better than the ensemble model in all of the metrics\n",
    "\n",
    "#### Therefore the linear model will be selected as our final model"
   ]
  },
  {
   "cell_type": "code",
   "execution_count": 25,
   "metadata": {},
   "outputs": [
    {
     "data": {
      "text/plain": [
       "RidgeClassifier(alpha=0.01)"
      ]
     },
     "execution_count": 25,
     "metadata": {},
     "output_type": "execute_result"
    }
   ],
   "source": [
    "# Final model parameters\n",
    "linear_pipe.named_steps['linear']"
   ]
  },
  {
   "cell_type": "code",
   "execution_count": 26,
   "metadata": {},
   "outputs": [
    {
     "data": {
      "text/plain": [
       "{'transformer': <__main__.CustomTransformer at 0x7f972db1c5b0>,\n",
       " 'col_transformer': ColumnTransformer(remainder='passthrough',\n",
       "                   transformers=[('imp_cols',\n",
       "                                  SimpleImputer(missing_values=0,\n",
       "                                                strategy='median'),\n",
       "                                  [21, 20, 19, 15, 14])]),\n",
       " 'sm': SMOTE(),\n",
       " 'scaler': MinMaxScaler(),\n",
       " 'linear': RidgeClassifier(alpha=0.01)}"
      ]
     },
     "execution_count": 26,
     "metadata": {},
     "output_type": "execute_result"
    }
   ],
   "source": [
    "# Full final pipeline\n",
    "linear_pipe.named_steps"
   ]
  },
  {
   "cell_type": "markdown",
   "metadata": {},
   "source": [
    "# Final Model Test Perfomance"
   ]
  },
  {
   "cell_type": "code",
   "execution_count": 27,
   "metadata": {},
   "outputs": [],
   "source": [
    "final_model_preds = linear_pipe.predict(X_test)"
   ]
  },
  {
   "cell_type": "markdown",
   "metadata": {},
   "source": [
    "### Confusion Matrix"
   ]
  },
  {
   "cell_type": "code",
   "execution_count": 28,
   "metadata": {},
   "outputs": [
    {
     "data": {
      "text/html": [
       "<div>\n",
       "<style scoped>\n",
       "    .dataframe tbody tr th:only-of-type {\n",
       "        vertical-align: middle;\n",
       "    }\n",
       "\n",
       "    .dataframe tbody tr th {\n",
       "        vertical-align: top;\n",
       "    }\n",
       "\n",
       "    .dataframe thead th {\n",
       "        text-align: right;\n",
       "    }\n",
       "</style>\n",
       "<table border=\"1\" class=\"dataframe\">\n",
       "  <thead>\n",
       "    <tr style=\"text-align: right;\">\n",
       "      <th></th>\n",
       "      <th>0</th>\n",
       "      <th>1</th>\n",
       "    </tr>\n",
       "  </thead>\n",
       "  <tbody>\n",
       "    <tr>\n",
       "      <th>0</th>\n",
       "      <td>65</td>\n",
       "      <td>4</td>\n",
       "    </tr>\n",
       "    <tr>\n",
       "      <th>1</th>\n",
       "      <td>2</td>\n",
       "      <td>11</td>\n",
       "    </tr>\n",
       "  </tbody>\n",
       "</table>\n",
       "</div>"
      ],
      "text/plain": [
       "    0   1\n",
       "0  65   4\n",
       "1   2  11"
      ]
     },
     "execution_count": 28,
     "metadata": {},
     "output_type": "execute_result"
    }
   ],
   "source": [
    "pd.DataFrame(confusion_matrix(y_true=y_test, y_pred=final_model_preds, labels=[0, 1]))"
   ]
  },
  {
   "cell_type": "markdown",
   "metadata": {},
   "source": [
    "### Metric Performance"
   ]
  },
  {
   "cell_type": "code",
   "execution_count": 73,
   "metadata": {},
   "outputs": [],
   "source": [
    "balanced_acc_test = balanced_accuracy_score(y_test, final_model_preds)\n",
    "f1_test = f1_score(y_test, final_model_preds)\n",
    "average_precision_test = average_precision_score(y_test, final_model_preds)"
   ]
  },
  {
   "cell_type": "code",
   "execution_count": 74,
   "metadata": {},
   "outputs": [
    {
     "name": "stdout",
     "output_type": "stream",
     "text": [
      "Balanced accuracy on the test set = 0.89\n",
      "Weighted f1 score on the test set = 0.79\n",
      "Average precision score on the test set = 0.64\n"
     ]
    }
   ],
   "source": [
    "print(f'Balanced accuracy on the test set = {balanced_acc_test:.2f}')\n",
    "print(f'Weighted f1 score on the test set = {f1_test:.2f}')\n",
    "print(f'Average precision score on the test set = {average_precision_test:.2f}')"
   ]
  },
  {
   "cell_type": "markdown",
   "metadata": {},
   "source": [
    "#### The Balanced accuracy is fairly good. Any miss in predicting Hall of Famers will bring this down by a lot since it's balanced. Unbalanced accuracy would be higher, but it's necessary to use balanced to emphasize the mislabeled predictions."
   ]
  },
  {
   "cell_type": "markdown",
   "metadata": {},
   "source": [
    "#### The F1 score is showing that the average of recall and precision is around 0.8. The 4 false postitives that you can see in the confusion matrix is what is driving this down. With this small of a minority class any False negatives or False positives will harm the F1 score quite a bit. This shows that the biggest drawback to this model is that it likes to predict False Positive cases"
   ]
  },
  {
   "cell_type": "markdown",
   "metadata": {},
   "source": [
    "#### The Average Precision score shows that the curve is ok, but not great. Likely a significant tradeoff between recall and precision at some threshold. This is confirmed in the Precion Recall curve below"
   ]
  },
  {
   "cell_type": "markdown",
   "metadata": {},
   "source": [
    "### Precision Recall Curve"
   ]
  },
  {
   "cell_type": "code",
   "execution_count": 75,
   "metadata": {},
   "outputs": [
    {
     "data": {
      "image/png": "[encoded data removed]",
      "text/plain": [
       "<Figure size 432x288 with 1 Axes>"
      ]
     },
     "metadata": {
      "needs_background": "light"
     },
     "output_type": "display_data"
    }
   ],
   "source": [
    "disp = plot_precision_recall_curve(linear_pipe, X_test, y_test)\n",
    "disp.ax_.set_title('2-class Precision-Recall curve: '\n",
    "                   'AP={0:0.2f}'.format(average_precision_test));"
   ]
  },
  {
   "cell_type": "markdown",
   "metadata": {},
   "source": [
    "# The model seems to want to classify some non hall of famers as hall of famers. Let's take a look at what pitchers the model is incorrectly classifying. Also grab probability's the model has assigned those players if provided."
   ]
  },
  {
   "cell_type": "code",
   "execution_count": 40,
   "metadata": {},
   "outputs": [
    {
     "data": {
      "text/html": [
       "<div>\n",
       "<style scoped>\n",
       "    .dataframe tbody tr th:only-of-type {\n",
       "        vertical-align: middle;\n",
       "    }\n",
       "\n",
       "    .dataframe tbody tr th {\n",
       "        vertical-align: top;\n",
       "    }\n",
       "\n",
       "    .dataframe thead th {\n",
       "        text-align: right;\n",
       "    }\n",
       "</style>\n",
       "<table border=\"1\" class=\"dataframe\">\n",
       "  <thead>\n",
       "    <tr style=\"text-align: right;\">\n",
       "      <th></th>\n",
       "      <th>playerID</th>\n",
       "      <th>Probability in HOF</th>\n",
       "    </tr>\n",
       "  </thead>\n",
       "  <tbody>\n",
       "    <tr>\n",
       "      <th>0</th>\n",
       "      <td>koosmje01</td>\n",
       "      <td>0.546983</td>\n",
       "    </tr>\n",
       "    <tr>\n",
       "      <th>1</th>\n",
       "      <td>mcdanli01</td>\n",
       "      <td>0.518821</td>\n",
       "    </tr>\n",
       "    <tr>\n",
       "      <th>2</th>\n",
       "      <td>lolicmi01</td>\n",
       "      <td>0.515150</td>\n",
       "    </tr>\n",
       "    <tr>\n",
       "      <th>3</th>\n",
       "      <td>houghch01</td>\n",
       "      <td>0.532081</td>\n",
       "    </tr>\n",
       "  </tbody>\n",
       "</table>\n",
       "</div>"
      ],
      "text/plain": [
       "    playerID  Probability in HOF\n",
       "0  koosmje01            0.546983\n",
       "1  mcdanli01            0.518821\n",
       "2  lolicmi01            0.515150\n",
       "3  houghch01            0.532081"
      ]
     },
     "execution_count": 40,
     "metadata": {},
     "output_type": "execute_result"
    }
   ],
   "source": [
    "misclass_as_hof = []\n",
    "for i in range(len(y_test)):\n",
    "    if y_test[i] == 0 and final_model_preds[i] == 1:\n",
    "        misclass_as_hof.append(i)\n",
    "players = X_test.iloc[misclass_as_hof].index\n",
    "\n",
    "# LogisticRegression\n",
    "if hasattr(linear_pipe, 'predict_proba'):\n",
    "    probs = linear_pipe.predict_proba(X_test.iloc[misclass_as_hof])\n",
    "    df = pd.DataFrame(list(zip(players, probs[:,1])), columns=['playerID', 'Probability in HOF'])\n",
    "# RidgeRegression\n",
    "elif hasattr(linear_pipe, 'decision_function'):\n",
    "    d = linear_pipe.decision_function(X_test.iloc[misclass_as_hof])\n",
    "    probs = np.exp(d) / (1 + np.exp(d))\n",
    "    df = pd.DataFrame(list(zip(players, probs)), columns=['playerID', 'Probability in HOF'])\n",
    "\n",
    "else:\n",
    "    df = players\n",
    "\n",
    "df"
   ]
  },
  {
   "cell_type": "markdown",
   "metadata": {},
   "source": [
    "### A lot of the samples seem to be right on the classification threshold"
   ]
  },
  {
   "cell_type": "markdown",
   "metadata": {},
   "source": [
    "# Let's take a look at feature importance now"
   ]
  },
  {
   "cell_type": "code",
   "execution_count": 49,
   "metadata": {},
   "outputs": [],
   "source": [
    "r = permutation_importance(linear_pipe, X_test, y_test, n_repeats=100, random_state=42)"
   ]
  },
  {
   "cell_type": "code",
   "execution_count": 50,
   "metadata": {},
   "outputs": [
    {
     "name": "stdout",
     "output_type": "stream",
     "text": [
      "BFP     0.404 ± 0.041\n",
      "IPouts  0.323 ± 0.038\n",
      "GS      0.265 ± 0.034\n",
      "W       0.255 ± 0.036\n",
      "GF      0.178 ± 0.028\n",
      "R       0.152 ± 0.034\n",
      "G       0.119 ± 0.030\n",
      "SV      0.085 ± 0.026\n",
      "CG      0.017 ± 0.018\n",
      "stint   0.012 ± 0.014\n",
      "SHO     0.011 ± 0.004\n",
      "ER      0.010 ± 0.014\n",
      "H       0.010 ± 0.009\n",
      "L       0.003 ± 0.005\n",
      "GIDP    0.001 ± 0.011\n",
      "SH      0.000 ± 0.008\n",
      "HR      0.000 ± 0.012\n",
      "votes   0.000 ± 0.000\n",
      "BAOpp   0.000 ± 0.000\n",
      "needed  0.000 ± 0.000\n",
      "ERA     0.000 ± 0.000\n",
      "WP      0.000 ± 0.000\n",
      "BK      0.000 ± 0.000\n",
      "yearID_y0.000 ± 0.000\n",
      "ballots 0.000 ± 0.000\n",
      "yearID_x0.000 ± 0.000\n",
      "SF      -0.001 ± 0.016\n",
      "IBB     -0.001 ± 0.012\n",
      "HBP     -0.004 ± 0.013\n",
      "BB      -0.006 ± 0.013\n",
      "SO      -0.007 ± 0.013\n"
     ]
    }
   ],
   "source": [
    "importance = []\n",
    "feature = []\n",
    "for i in r.importances_mean.argsort()[::-1]:\n",
    "    feature.append(X_test.columns[i])\n",
    "    importance.append(r.importances_mean[i])\n",
    "    print(f\"{X_test.columns[i]:<8}\"\n",
    "          f\"{r.importances_mean[i]:.3f}\"\n",
    "          f\" ± {r.importances_std[i]:.3f}\")"
   ]
  },
  {
   "cell_type": "markdown",
   "metadata": {},
   "source": [
    "# Summary and Further Investigation"
   ]
  },
  {
   "cell_type": "markdown",
   "metadata": {},
   "source": [
    "In conclusion, after modeling this classifier and investigating the results there are a lot of factors that could possibily come into play to alter a pitchers chance at missing the hall of fame. Things like public perception could decide how many people vote for a player to be inducted. With this dataset, the current model is having a tough time on some of the 50/50 cases. In the future it would be interesting to add in more features that provide information on individual awards such as the Cy Young award for best pitcher or number of All Star Game appearances. That way the perception of a player from the point of view of the media and the general public could maybe nudge the model in the right direction. Or possibly adding in playoff appearances and stats, since that is where the stage is the biggest. Because in some instances getting into the hall fame can be a popularity contest if a pitcher's stats are right on the edge of being hall of fame worthy.\n",
    "\n",
    "Additionally, in the other direction in would be interesting to use more modern advanced stats and try to model with those features. Features such as WAR (Wins Above Replacement) could prove useful in helping to distinguish the two classes. Classical metrics like Wins, Losses, and strikeouts don't really tell the whole story of a pitchers career. \n",
    "\n",
    "And Finally, I think there is something to be said about how baseball chooses who gets inducted might need to be updated. In the course of this analysis I discovered some incredible baseball pitchers from the 1800's who I think should have a place in the hall of fame. With how modern baseball has become in terms of advanced analytics, maybe the hall of fame voting committee should be more focused on that as well."
   ]
  }
 ],
 "metadata": {
  "kernelspec": {
   "display_name": "Python 3",
   "language": "python",
   "name": "python3"
  },
  "language_info": {
   "codemirror_mode": {
    "name": "ipython",
    "version": 3
   },
   "file_extension": ".py",
   "mimetype": "text/x-python",
   "name": "python",
   "nbconvert_exporter": "python",
   "pygments_lexer": "ipython3",
   "version": "3.8.5"
  },
  "toc": {
   "base_numbering": 1,
   "nav_menu": {},
   "number_sections": false,
   "sideBar": false,
   "skip_h1_title": false,
   "title_cell": "Table of Contents",
   "title_sidebar": "Contents",
   "toc_cell": true,
   "toc_position": {},
   "toc_section_display": true,
   "toc_window_display": false
  }
 },
 "nbformat": 4,
 "nbformat_minor": 4
}
